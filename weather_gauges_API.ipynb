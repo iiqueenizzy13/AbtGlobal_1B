{
 "cells": [
  {
   "cell_type": "markdown",
   "id": "f32708d0",
   "metadata": {},
   "source": [
    "## Get GHCND data\n",
    "This script adapts the module created here: https://github.com/scotthosking/get-station-data. It allows easy access to and processing of GHCN historical daily data from >100,000 weather stations across the globe. \n",
    "\n",
    "Try git-cloning this repo and installing these packages, following the directions in the ReadMe file."
   ]
  },
  {
   "cell_type": "code",
   "execution_count": null,
   "id": "3bd9ad7f",
   "metadata": {},
   "outputs": [],
   "source": [
    "# -*- coding: utf-8 -*-\n",
    "\"\"\"\n",
    "Created on Jan 24 2022\n",
    "Updated on Sep 13 2024\n",
    "\n",
    "@author: Nora Connor\n",
    "\"\"\"\n",
    "\n",
    "import os\n",
    "import pandas as pd\n",
    "import datetime \n",
    "import requests\n",
    "from io import StringIO\n",
    "\n",
    "#Make sure you git clone the get-station-data Github repo before you run these lines of code:\n",
    "from get_station_data import ghcnd\n",
    "import get_station_data.util as ghcn_utils\n",
    "\n",
    "#Edit this line to point to your preferred output directory:\n",
    "output_directory = r'{Add_Your_Output_Directory}'"
   ]
  },
  {
   "cell_type": "code",
   "execution_count": null,
   "id": "2136e404",
   "metadata": {},
   "outputs": [],
   "source": [
    "def get_weather_data(site,url):\n",
    "   \n",
    "    try:\n",
    "        r = requests.get(url)\n",
    "        output = r.text\n",
    "        site_data = pd.read_csv(StringIO(output))\n",
    "    except:\n",
    "        print('An exception occurred when attempting to get site ' + str(site))\n",
    "\n",
    "    return site_data"
   ]
  },
  {
   "cell_type": "markdown",
   "id": "4a908ec1",
   "metadata": {},
   "source": [
    "You'll need to determine which weather stations you want to pull data from. Try using this command:\n",
    "\n",
    "    stations = ghcnd.get_stn_metadata()\n",
    "\n",
    "One idea would be to pull the weather station that is closest to the center of each state. You'll need to do your own investigation to find the (Latitude, Longitude) for a state of interest, in decimal format (e.g., (37.820804, -77.107317)). Then, you can try using this command from this same package:\n",
    "\n",
    "    dists, indices = ghcn_utils.get_nearest_neighbors(stations[['lat', 'lon']], state_centers[['LATDEC', 'LONGDEC']], k=1)\n",
    "\n",
    "HINT: You can get lat/long decimals by searching for a location on Google Maps, if you need to brute force it."
   ]
  },
  {
   "cell_type": "code",
   "execution_count": null,
   "id": "166bd083",
   "metadata": {},
   "outputs": [],
   "source": [
    "#This is where you can set a date range; try experimenting with this block to get different lists of dates:\n",
    "start_dates = pd.date_range(start=datetime.date(2001,1,1),periods = 20, freq='AS').strftime('%Y-%m-%d').to_list()\n",
    "end_dates = pd.date_range(start=datetime.date(2001,1,1),periods = 20, freq='A').strftime('%Y-%m-%d').to_list()\n",
    "\n",
    "#This is where you'll need to figure out what weather stations you want to pull data from.\n",
    "#The format for stations will look like this: USC00319427, US1NCCA0004, ACW00011604, etc. \n",
    "sites = []"
   ]
  },
  {
   "cell_type": "code",
   "execution_count": null,
   "id": "aaee6f96",
   "metadata": {},
   "outputs": [],
   "source": [
    "#I didn't clean this for you, so you may have to make some changes to this code to get the weather data that you want. \n",
    "#For example, it looks like this code is currently pulling only the precipitation data, and attempting to convert the units into inches.\n",
    "\n",
    "for site in sites:\n",
    "    print(site)\n",
    "    df = pd.DataFrame()\n",
    "\n",
    "    df['start_dates'] = start_dates\n",
    "    df['end_dates'] = end_dates\n",
    "    df['site'] = site\n",
    "    station = site\n",
    "\n",
    "    df['url'] = 'https://www.ncei.noaa.gov/access/services/data/v1?dataset=daily-summaries&dataTypes=PRCP&stations=' + station + '&startDate=' + df['start_dates'] +'&endDate=' + df['end_dates'] +'&boundingBox=90,-180,-90,180'\n",
    "    site_data=[]\n",
    "\n",
    "    for index, row in df.iterrows():\n",
    "\n",
    "        url = row['url']\n",
    "        site = row['site']\n",
    "        tmp = get_weather_data(site, url)\n",
    "        #print(index)\n",
    "        if 'Error' in str(tmp):\n",
    "            print('no data')\n",
    "        elif 'Empty' in str(tmp):\n",
    "            print('no data available')\n",
    "        elif '504 Gateway Time-out' in str(tmp):\n",
    "            print('504 error')\n",
    "        else:\n",
    "            site_data.append(tmp)\n",
    "    \n",
    "    try:\n",
    "        df1 = pd.DataFrame(site_data[0])\n",
    "        for i in range(len(site_data) -1 ):\n",
    "            df1 = pd.concat([df1, site_data[i+1]], axis=0)\n",
    "        df1['PRCP(inches)'] = df1['PRCP']*(1.0/254)\n",
    "        \n",
    "        #Output to csv \n",
    "        out_data = os.path.join(output_directory, str(site) + '.csv')\n",
    "        df1.to_csv(out_data)\n",
    "    \n",
    "    except:\n",
    "        print('ERROR: no data at station')"
   ]
  }
 ],
 "metadata": {
  "kernelspec": {
   "display_name": "Python 3 (ipykernel)",
   "language": "python",
   "name": "python3"
  },
  "language_info": {
   "codemirror_mode": {
    "name": "ipython",
    "version": 3
   },
   "file_extension": ".py",
   "mimetype": "text/x-python",
   "name": "python",
   "nbconvert_exporter": "python",
   "pygments_lexer": "ipython3",
   "version": "3.11.4"
  }
 },
 "nbformat": 4,
 "nbformat_minor": 5
}
