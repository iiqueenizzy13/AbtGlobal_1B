{
 "cells": [
  {
   "cell_type": "code",
   "execution_count": 1,
   "metadata": {},
   "outputs": [],
   "source": [
    "# Necessary imports\\n\",\n",
    "import os\n",
    "import pandas as pd\n",
    "import numpy as np"
   ]
  },
  {
   "cell_type": "code",
   "execution_count": 2,
   "metadata": {},
   "outputs": [],
   "source": [
    "# Get the COVID dataset\n",
    "filename1 = os.path.join(os.getcwd(), \"weekly_covid_county_level_US.csv\")\n",
    "df1 = pd.read_csv(filename1, header=0)\n",
    "\n",
    "# Get the weather dataset\n",
    "filename2 = os.path.join(os.getcwd(), \"weekly_tavg_county_cont_US.csv\")\n",
    "df2 = pd.read_csv(filename2, header=0)"
   ]
  },
  {
   "cell_type": "code",
   "execution_count": 4,
   "metadata": {},
   "outputs": [],
   "source": [
    "# Rename county_name to county in weekly_covid_county_level_US.csv\n",
    "df1.rename(columns={'county_name': 'County'}, inplace=True)\n",
    "df1.rename(columns={'report_date': 'Week'}, inplace=True)\n",
    "df1.rename(columns={'state_name': 'State'}, inplace=True)\n",
    "\n",
    "# Sort df1 by County to match with df2\n",
    "sorted_df1 = df1.sort_values(by=['State','County', 'Week'])\n",
    "#display(sorted_df1)\n",
    "\n",
    "# Sort df2 by County to match with df1\n",
    "sorted_df2 = df2.sort_values(by=['State','County', 'Week'])\n",
    "    \n",
    "#Drop 10/06 and 10/13 and 05/28/23 - 06/06/24 to match with when COVID data ends from df2 \n",
    "values_todrop = ['2022-10-06', '2022-10-13', '2023-05-18', '2023-05-25', '2023-06-01', '2023-06-08', '2023-06-15', '2023-06-22', '2023-06-29', '2023-07-06',\n",
    "'2023-07-13', '2023-07-20', '2023-07-27', '2023-08-03', '2023-08-10', '2023-08-17', '2023-08-24', '2023-08-31', '2023-09-07', '2023-09-14', '2023-09-21',\n",
    "'2023-09-28', '2023-10-05', '2023-10-12', '2023-10-19', '2023-10-26', '2023-11-02', '2023-11-09', '2023-11-16', '2023-11-23', '2023-11-30', '2023-12-07',\n",
    "'2023-12-14', '2023-12-21', '2023-12-28', '2024-01-04', '2024-01-11', '2024-01-18', '2024-01-25', '2024-02-01', '2024-02-08', '2024-02-15', '2024-02-22',\n",
    "'2024-02-29', '2024-03-07', '2024-03-14', '2024-03-21', '2024-03-28', '2024-04-04', '2024-04-11', '2024-04-18', '2024-04-25', '2024-05-02', '2024-05-09',\n",
    "'2024-05-16', '2024-05-23', '2024-05-30', '2024-06-06']\n",
    "\n",
    "sorted_df2 = sorted_df2[~sorted_df2['Week'].isin(values_todrop)]\n",
    "#display(sorted_df2)\n",
    "#print(sorted_df2.head(250))"
   ]
  },
  {
   "cell_type": "code",
   "execution_count": 8,
   "metadata": {},
   "outputs": [
    {
     "name": "stdout",
     "output_type": "stream",
     "text": [
      "    State_x     County        Week  Temperature         State_y  \\\n",
      "0        SC  Abbeville  2022-10-20        14.22  South Carolina   \n",
      "1        SC  Abbeville  2022-10-27        13.56  South Carolina   \n",
      "2        SC  Abbeville  2022-11-03        15.76  South Carolina   \n",
      "3        SC  Abbeville  2022-11-10        18.69  South Carolina   \n",
      "4        SC  Abbeville  2022-11-17        10.72  South Carolina   \n",
      "..      ...        ...         ...          ...             ...   \n",
      "125      KY      Adair  2022-10-20         9.96        Kentucky   \n",
      "126      KY      Adair  2022-10-20         9.96        Missouri   \n",
      "127      KY      Adair  2022-10-20         9.96        Oklahoma   \n",
      "128      MO      Adair  2022-10-20         5.62            Iowa   \n",
      "129      MO      Adair  2022-10-20         5.62        Kentucky   \n",
      "\n",
      "     cases_per_100K_7_day_count_change  \\\n",
      "0                                40.77   \n",
      "1                                16.31   \n",
      "2                                44.85   \n",
      "3                                65.23   \n",
      "4                                89.70   \n",
      "..                                 ...   \n",
      "125                              88.53   \n",
      "126                              67.08   \n",
      "127                              85.61   \n",
      "128                              13.98   \n",
      "129                              88.53   \n",
      "\n",
      "     percent_test_results_reported_positive_last_7_days  \\\n",
      "0                                                 5.56    \n",
      "1                                                 8.05    \n",
      "2                                                 4.76    \n",
      "3                                                 4.43    \n",
      "4                                                 7.81    \n",
      "..                                                 ...    \n",
      "125                                              10.71    \n",
      "126                                              22.13    \n",
      "127                                               7.64    \n",
      "128                                                NaN    \n",
      "129                                              10.71    \n",
      "\n",
      "    community_transmission_level  \n",
      "0                       moderate  \n",
      "1                    substantial  \n",
      "2                       moderate  \n",
      "3                    substantial  \n",
      "4                    substantial  \n",
      "..                           ...  \n",
      "125                  substantial  \n",
      "126                  substantial  \n",
      "127                  substantial  \n",
      "128                     moderate  \n",
      "129                  substantial  \n",
      "\n",
      "[130 rows x 8 columns]\n"
     ]
    }
   ],
   "source": [
    "# Merge the two datasets into a new dataset on the county column\n",
    "# The new df is sorted by the County column\n",
    "df = pd.merge(sorted_df2, sorted_df1, on=['County', 'Week'], how='outer')\n",
    "#display(df)\n",
    "   \n",
    "# Drop FIPS, fips_code and state_abbr columns since they are unnecessary and repeating\n",
    "df = df.drop(columns=['FIPS', 'fips_code', 'state_abbr'])\n",
    "\n",
    "print(df.head(130))\n",
    "#display(df)"
   ]
  }
 ],
 "metadata": {
  "kernelspec": {
   "display_name": "Python 3",
   "language": "python",
   "name": "python3"
  },
  "language_info": {
   "codemirror_mode": {
    "name": "ipython",
    "version": 3
   },
   "file_extension": ".py",
   "mimetype": "text/x-python",
   "name": "python",
   "nbconvert_exporter": "python",
   "pygments_lexer": "ipython3",
   "version": "3.12.4"
  }
 },
 "nbformat": 4,
 "nbformat_minor": 2
}
